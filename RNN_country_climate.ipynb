{
 "cells": [
  {
   "cell_type": "markdown",
   "metadata": {},
   "source": [
    "Predict climate of a country (use all stations beginning with country code)"
   ]
  },
  {
   "cell_type": "markdown",
   "metadata": {},
   "source": [
    "Get data for all given stations\n",
    "Find monthly means\n",
    "Plot these"
   ]
  },
  {
   "cell_type": "code",
   "execution_count": null,
   "metadata": {},
   "outputs": [],
   "source": [
    "import json\n",
    "import matplotlib.pyplot as plt\n",
    "import keras\n",
    "import keras.layers as layers\n",
    "from GHCND import *"
   ]
  },
  {
   "cell_type": "code",
   "execution_count": null,
   "metadata": {},
   "outputs": [],
   "source": [
    "f = open('data/stat_counts_tmax.txt')\n",
    "data = json.load(f)\n",
    "\n",
    "# find all stations with no data gaps\n",
    "no_gaps_tmax = [k for k, v in data.items() if v == 0]\n",
    "station = no_gaps_tmax[0]\n",
    "print(station)"
   ]
  },
  {
   "cell_type": "code",
   "execution_count": null,
   "metadata": {},
   "outputs": [],
   "source": [
    "ghn = GHCND()\n",
    "ghn.readCountriesFile()\n",
    "ghn.readStationsFile()\n",
    "\n",
    "# Get list of station names\n",
    "station_names = ghn.getStatKeyNames()\n",
    "\n",
    "# get url for a given station index\n",
    "fileName = f\"{station}.dly\"\n",
    "print(f\"Filename: {fileName}\")\n",
    "urlName = f\"http://www.hep.ucl.ac.uk/undergrad/0056/other/projects/ghcnd/ghcnd_gsn/{fileName}\"\n",
    "print(f\"url name: {urlName}\")\n",
    "\n",
    "# copy station data from remote to local\n",
    "destination = f\"data/{fileName}\"\n",
    "print(f\"destination: {destination}\")\n",
    "urllib.request.urlretrieve(urlName, destination)\n",
    "station_data = ghn.processFile(destination)\n",
    "print(ghn.getStation(station))\n",
    "\n",
    "t_max = Variable(ghn.getVar(station_data, 'TMAX'), \"max temp (degC)\", ghn.stationDict[station].name)\n",
    "dates = t_max.get_dates()\n",
    "vals = t_max.get_vals()\n"
   ]
  },
  {
   "cell_type": "code",
   "execution_count": null,
   "metadata": {},
   "outputs": [],
   "source": [
    "means = np.array(t_max.get_monthly_means())\n",
    "\n",
    "fig, ax = plt.subplots()\n",
    "ax.plot(means[:(12*10)])\n",
    "ax.set_xlabel(\"Month\")\n",
    "ax.set_ylabel(\"Mean monthly maximum temperature (degC)\")\n",
    "ax.set_title(\"Mean monthly maximum temperatures over 10 years\")"
   ]
  },
  {
   "cell_type": "code",
   "execution_count": null,
   "metadata": {},
   "outputs": [],
   "source": [
    "# normalise means: divide by the biggest value\n",
    "means_normalised = t_max.normalise(means)\n",
    "\n",
    "fig, ax = plt.subplots()\n",
    "ax.plot(means_normalised[:(12*10)])\n",
    "ax.set_xlabel(\"Month\")\n",
    "ax.set_ylabel(\"Normalised mean monthly maximum temperature (degC)\")\n",
    "ax.set_title(\"Mean monthly maximum temperatures over 10 years\")"
   ]
  },
  {
   "cell_type": "markdown",
   "metadata": {},
   "source": [
    "### Train model"
   ]
  },
  {
   "cell_type": "code",
   "execution_count": null,
   "metadata": {},
   "outputs": [],
   "source": [
    "WINDOW_SIZE = 12\n",
    "OFFSET = 12\n",
    "\n",
    "train_len = int(len(means_normalised) * 0.7)\n",
    "validate_len = int(len(means_normalised) * 0.2)\n",
    "test_len = int(len(means_normalised) * 0.1)\n",
    "\n",
    "# divide data into training, validating and testing sets\n",
    "means_train = means_normalised[test_len+1:test_len+train_len]\n",
    "means_validate = means_normalised[test_len+train_len+1:]\n",
    "means_test = means_normalised[:test_len]\n",
    "\n",
    "# reshape data into input windows and targets\n",
    "input_train, target_train = shapeArray(means_train, WINDOW_SIZE, OFFSET)\n",
    "input_validate, target_validate = shapeArray(means_validate, WINDOW_SIZE, OFFSET)\n",
    "input_test, target_test = shapeArray(means_test, WINDOW_SIZE, OFFSET)\n"
   ]
  },
  {
   "cell_type": "code",
   "execution_count": null,
   "metadata": {},
   "outputs": [],
   "source": [
    "n_features = 1\n",
    "input_train = input_train.reshape((input_train.shape[0], input_train.shape[1], n_features))\n",
    "input_test = input_test.reshape((input_test.shape[0], input_test.shape[1], n_features))\n",
    "input_validate = input_validate.reshape((input_validate.shape[0], input_validate.shape[1], n_features))\n"
   ]
  },
  {
   "cell_type": "code",
   "execution_count": null,
   "metadata": {},
   "outputs": [],
   "source": [
    "# model that definitely works:\n",
    "\n",
    "model = keras.models.Sequential()\n",
    "model.add(layers.LSTM(64, input_shape = (WINDOW_SIZE, 1), activation = 'relu', return_sequences = False))\n",
    "model.add(layers.Dense(1, activation = \"linear\"))\n",
    "model.compile(loss = 'mean_squared_error', optimizer = 'adam')\n",
    "\n",
    "model.summary()\n",
    "\n",
    "# train model and extract final loss\n",
    "history = model.fit(input_train, target_train, epochs = 100, validation_data = (input_validate, target_validate))\n",
    "cost = history.history['loss']"
   ]
  },
  {
   "cell_type": "code",
   "execution_count": null,
   "metadata": {},
   "outputs": [],
   "source": [
    "model = keras.models.Sequential()\n",
    "model.add(layers.LSTM(64, input_shape = (WINDOW_SIZE, 1), activation = 'relu', return_sequences = True))\n",
    "model.add(layers.LSTM(128, activation = 'relu'))\n",
    "model.add(layers.Dense(1, activation = \"linear\"))\n",
    "model.compile(loss = 'mean_squared_error', optimizer = 'adam')\n",
    "\n",
    "model.summary()\n",
    "\n",
    "# train model and extract final loss\n",
    "history = model.fit(input_train, target_train, epochs = 200, validation_data = (input_validate, target_validate))\n",
    "cost = history.history['loss']\n",
    "val_cost = history.history['val_loss']\n",
    "\n",
    "fig, ax = plt.subplots()\n",
    "ax.plot(cost)\n",
    "ax.plot(val_cost)\n"
   ]
  },
  {
   "cell_type": "code",
   "execution_count": null,
   "metadata": {},
   "outputs": [],
   "source": [
    "prediction = model.predict(input_test)\n",
    "\n",
    "fig, ax = plt.subplots()\n",
    "ax.plot(prediction)\n",
    "ax.plot(target_test)"
   ]
  },
  {
   "cell_type": "markdown",
   "metadata": {},
   "source": [
    "### Plot first 10 years of data against predictions"
   ]
  }
 ],
 "metadata": {
  "kernelspec": {
   "display_name": "Python 3.9.2 64-bit",
   "language": "python",
   "name": "python3"
  },
  "language_info": {
   "codemirror_mode": {
    "name": "ipython",
    "version": 3
   },
   "file_extension": ".py",
   "mimetype": "text/x-python",
   "name": "python",
   "nbconvert_exporter": "python",
   "pygments_lexer": "ipython3",
   "version": "3.9.2"
  },
  "orig_nbformat": 4,
  "vscode": {
   "interpreter": {
    "hash": "e7370f93d1d0cde622a1f8e1c04877d8463912d04d973331ad4851f04de6915a"
   }
  }
 },
 "nbformat": 4,
 "nbformat_minor": 2
}
