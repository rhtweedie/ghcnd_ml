{
 "cells": [
  {
   "cell_type": "code",
   "execution_count": null,
   "metadata": {},
   "outputs": [],
   "source": [
    "import json\n",
    "import matplotlib.pyplot as plt\n",
    "from GHCND import *"
   ]
  },
  {
   "cell_type": "code",
   "execution_count": null,
   "metadata": {},
   "outputs": [],
   "source": [
    "# split data into train, validate and test\n",
    "# get data into correct shape (double check!!!)\n",
    "# train and validate model\n",
    "# test on input"
   ]
  },
  {
   "cell_type": "code",
   "execution_count": null,
   "metadata": {},
   "outputs": [],
   "source": [
    "f = open('data/stat_counts_tmax.txt')\n",
    "data = json.load(f)\n",
    "\n",
    "# find all stations with no data gaps\n",
    "no_gaps_tmax = [k for k, v in data.items() if v == 0]\n",
    "station = no_gaps_tmax[-1]\n",
    "print(station)"
   ]
  },
  {
   "cell_type": "markdown",
   "metadata": {},
   "source": [
    "### Get data, and shape train, validate and test arrays"
   ]
  },
  {
   "cell_type": "code",
   "execution_count": null,
   "metadata": {},
   "outputs": [],
   "source": [
    "ghn = GHNCD()\n",
    "ghn.readCountriesFile()\n",
    "ghn.readStationsFile()\n",
    "\n",
    "# Get list of station names\n",
    "station_names = ghn.getStatKeyNames()\n",
    "\n",
    "# get url for a given station index\n",
    "fileName = f\"{station}.dly\"\n",
    "print(f\"Filename: {fileName}\")\n",
    "urlName = f\"http://www.hep.ucl.ac.uk/undergrad/0056/other/projects/ghcnd/ghcnd_gsn/{fileName}\"\n",
    "print(f\"url name: {urlName}\")\n",
    "\n",
    "# copy station data from remote to local\n",
    "destination = f\"data/{fileName}\"\n",
    "print(f\"destination: {destination}\")\n",
    "urllib.request.urlretrieve(urlName, destination)\n",
    "station_data = ghn.processFile(destination)\n",
    "print(ghn.getStation(station))\n",
    "\n",
    "t_max = Variable(ghn.getVar(station_data, 'TMAX'), \"max temp (degC)\", ghn.stationDict[station].name)\n",
    "t_max.convert_time()\n",
    "\n",
    "fig, ax = plt.subplots()\n",
    "ax.plot(t_max.get_dates(), t_max.get_vals())\n",
    "ax.set_xlabel(\"Days since first recording\")\n",
    "ax.set_ylabel(f\"{t_max.get_label()}\")\n",
    "ax.legend((t_max.get_station()))"
   ]
  },
  {
   "cell_type": "code",
   "execution_count": 10,
   "metadata": {},
   "outputs": [
    {
     "name": "stdout",
     "output_type": "stream",
     "text": [
      "26617\n",
      "26617\n"
     ]
    }
   ],
   "source": [
    "vals = t_max.get_vals()\n",
    "dates = t_max.get_dates()\n",
    "\n"
   ]
  }
 ],
 "metadata": {
  "kernelspec": {
   "display_name": "Python 3.9.2 64-bit",
   "language": "python",
   "name": "python3"
  },
  "language_info": {
   "codemirror_mode": {
    "name": "ipython",
    "version": 3
   },
   "file_extension": ".py",
   "mimetype": "text/x-python",
   "name": "python",
   "nbconvert_exporter": "python",
   "pygments_lexer": "ipython3",
   "version": "3.9.2"
  },
  "orig_nbformat": 4,
  "vscode": {
   "interpreter": {
    "hash": "e7370f93d1d0cde622a1f8e1c04877d8463912d04d973331ad4851f04de6915a"
   }
  }
 },
 "nbformat": 4,
 "nbformat_minor": 2
}
