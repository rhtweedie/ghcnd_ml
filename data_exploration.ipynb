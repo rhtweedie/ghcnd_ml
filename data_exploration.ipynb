{
 "cells": [
  {
   "cell_type": "code",
   "execution_count": null,
   "metadata": {},
   "outputs": [],
   "source": [
    "# import the urllib library\n",
    "import urllib.request\n",
    "from datetime import date\n",
    "import numpy as np\n",
    "import matplotlib.pyplot as plt \n",
    "import json\n",
    "from GHCND import *"
   ]
  },
  {
   "cell_type": "code",
   "execution_count": null,
   "metadata": {},
   "outputs": [],
   "source": [
    "ghn = GHNCD()\n",
    "ghn.readCountriesFile()\n",
    "ghn.readStationsFile()"
   ]
  },
  {
   "cell_type": "code",
   "execution_count": null,
   "metadata": {},
   "outputs": [],
   "source": [
    "\n",
    "# Get list of station names\n",
    "station_names = ghn.getStatKeyNames()\n",
    "\n",
    "# get url for a given station index\n",
    "whichStat1 = 9\n",
    "fileName = station_names[whichStat1]+'.dly'\n",
    "urlName = 'http://www.hep.ucl.ac.uk/undergrad/0056/other/projects/ghcnd/ghcnd_gsn/' + fileName\n",
    "\n",
    "# copy station data from remote to local\n",
    "destination = f\"data/{fileName}\"\n",
    "urllib.request.urlretrieve(urlName, destination)\n",
    "statDict1 = ghn.processFile(destination)\n",
    "print(ghn.getStation(station_names[whichStat1]))\n"
   ]
  },
  {
   "cell_type": "code",
   "execution_count": null,
   "metadata": {},
   "outputs": [],
   "source": [
    "var1 = Variable(ghn.getVar(statDict1, 'TMAX'), \"max temp (degC)\", ghn.stationDict[station_names[whichStat1]].name)\n",
    "var1.convert_time()\n",
    "\n",
    "fig, ax = plt.subplots()\n",
    "ax.plot(var1.get_dates(), var1.get_vals())\n",
    "ax.set_xlabel(\"Days since first recording\")\n",
    "ax.set_ylabel(f\"{var1.get_label()}\")\n",
    "ax.legend((var1.get_station()))\n"
   ]
  },
  {
   "cell_type": "markdown",
   "metadata": {},
   "source": [
    "### Find station with the least number of gaps in max_temp data"
   ]
  },
  {
   "cell_type": "code",
   "execution_count": null,
   "metadata": {},
   "outputs": [],
   "source": [
    "# get list of station names\n",
    "station_names = ghn.getStatKeyNames()\n",
    "\n",
    "# count number of gaps in each station\n",
    "counts = {}\n",
    "for station in station_names:\n",
    "    try:\n",
    "        # get url for a given station index\n",
    "        fileName = f\"{station}.dly\"\n",
    "        urlName = 'http://www.hep.ucl.ac.uk/undergrad/0056/other/projects/ghcnd/ghcnd_gsn/' + fileName\n",
    "\n",
    "        # copy station data from remote to local\n",
    "        destination = f\"data/{fileName}\"\n",
    "        urllib.request.urlretrieve(urlName, destination)\n",
    "        statDict = ghn.processFile(destination)\n",
    "        print(ghn.getStation(station))\n",
    "\n",
    "        var = Variable(ghn.getVar(statDict, 'TMAX'), \"max temp (degC)\", ghn.stationDict[station].name)\n",
    "        var.convert_time()\n",
    "        count = var.count_gaps()\n",
    "        counts[station] = count\n",
    "    except Exception:\n",
    "        print(f\"Gaps couldn't be counted for station {station}\")\n",
    "        continue\n",
    "\n",
    "with open(\"stat_counts_tmax.txt\", \"a\") as f:\n",
    "    json.dump(counts, f, indent=2)"
   ]
  }
 ],
 "metadata": {
  "kernelspec": {
   "display_name": "Python 3.9.2 64-bit",
   "language": "python",
   "name": "python3"
  },
  "language_info": {
   "codemirror_mode": {
    "name": "ipython",
    "version": 3
   },
   "file_extension": ".py",
   "mimetype": "text/x-python",
   "name": "python",
   "nbconvert_exporter": "python",
   "pygments_lexer": "ipython3",
   "version": "3.9.2"
  },
  "orig_nbformat": 4,
  "vscode": {
   "interpreter": {
    "hash": "e7370f93d1d0cde622a1f8e1c04877d8463912d04d973331ad4851f04de6915a"
   }
  }
 },
 "nbformat": 4,
 "nbformat_minor": 2
}
