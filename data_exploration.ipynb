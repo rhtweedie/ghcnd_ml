{
 "cells": [
  {
   "cell_type": "code",
   "execution_count": 1,
   "metadata": {},
   "outputs": [],
   "source": [
    "# import the urllib library\n",
    "import urllib.request\n",
    "from datetime import date\n",
    "import numpy as np\n",
    "import matplotlib.pyplot as plt \n",
    "from ghcnd_functions import *"
   ]
  },
  {
   "cell_type": "code",
   "execution_count": 2,
   "metadata": {},
   "outputs": [
    {
     "name": "stdout",
     "output_type": "stream",
     "text": [
      "Read 219 countries and codes\n",
      "Read 991 stations with justGSN\n"
     ]
    }
   ],
   "source": [
    "ghn=GHNCD()\n",
    "ghn.readCountriesFile()\n",
    "ghn.readStationsFile()"
   ]
  },
  {
   "cell_type": "code",
   "execution_count": 6,
   "metadata": {},
   "outputs": [
    {
     "name": "stdout",
     "output_type": "stream",
     "text": [
      "CA002400404 is ARCTIC BAY CS, Canada at 73.0 -85.0167 10.0\n"
     ]
    }
   ],
   "source": [
    "\n",
    "# Get list of station names\n",
    "statNames = ghn.getStatKeyNames()\n",
    "\n",
    "# get url for a given station index\n",
    "whichStat = 220\n",
    "fileName = statNames[whichStat]+'.dly'\n",
    "urlName = 'http://www.hep.ucl.ac.uk/undergrad/0056/other/projects/ghcnd/ghcnd_gsn/' + fileName\n",
    "\n",
    "# copy station data from remote to local\n",
    "destination = f\"data/{fileName}\"\n",
    "urllib.request.urlretrieve(urlName, destination)\n",
    "statDict = ghn.processFile(fileName)\n",
    "print(ghn.getStation(statNames[whichStat]))\n"
   ]
  }
 ],
 "metadata": {
  "kernelspec": {
   "display_name": "Python 3.9.2 64-bit",
   "language": "python",
   "name": "python3"
  },
  "language_info": {
   "codemirror_mode": {
    "name": "ipython",
    "version": 3
   },
   "file_extension": ".py",
   "mimetype": "text/x-python",
   "name": "python",
   "nbconvert_exporter": "python",
   "pygments_lexer": "ipython3",
   "version": "3.9.2"
  },
  "orig_nbformat": 4,
  "vscode": {
   "interpreter": {
    "hash": "e7370f93d1d0cde622a1f8e1c04877d8463912d04d973331ad4851f04de6915a"
   }
  }
 },
 "nbformat": 4,
 "nbformat_minor": 2
}
