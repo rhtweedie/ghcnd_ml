{
 "cells": [
  {
   "cell_type": "code",
   "execution_count": 1,
   "metadata": {},
   "outputs": [],
   "source": [
    "# import the urllib library\n",
    "import urllib.request\n",
    "from datetime import date\n",
    "import numpy as np\n",
    "import matplotlib.pyplot as plt \n",
    "from GHCND import *"
   ]
  },
  {
   "cell_type": "code",
   "execution_count": 2,
   "metadata": {},
   "outputs": [
    {
     "name": "stdout",
     "output_type": "stream",
     "text": [
      "Read 219 countries and codes\n",
      "Read 991 stations with justGSN\n"
     ]
    }
   ],
   "source": [
    "ghn = GHNCD()\n",
    "ghn.readCountriesFile()\n",
    "ghn.readStationsFile()"
   ]
  },
  {
   "cell_type": "code",
   "execution_count": 3,
   "metadata": {},
   "outputs": [
    {
     "name": "stdout",
     "output_type": "stream",
     "text": [
      "KS000047112 is INCHEON, Korea, South at 37.467 126.633 70.0\n"
     ]
    }
   ],
   "source": [
    "\n",
    "# Get list of station names\n",
    "statNames = ghn.getStatKeyNames()\n",
    "\n",
    "# get url for a given station index\n",
    "whichStat = 500\n",
    "fileName = statNames[whichStat]+'.dly'\n",
    "urlName = 'http://www.hep.ucl.ac.uk/undergrad/0056/other/projects/ghcnd/ghcnd_gsn/' + fileName\n",
    "\n",
    "# copy station data from remote to local\n",
    "destination = f\"data/{fileName}\"\n",
    "urllib.request.urlretrieve(urlName, destination)\n",
    "statDict = ghn.processFile(destination)\n",
    "print(ghn.getStation(statNames[whichStat]))\n"
   ]
  },
  {
   "cell_type": "code",
   "execution_count": 9,
   "metadata": {},
   "outputs": [
    {
     "ename": "KeyError",
     "evalue": "'SNOW'",
     "output_type": "error",
     "traceback": [
      "\u001b[0;31m---------------------------------------------------------------------------\u001b[0m",
      "\u001b[0;31mKeyError\u001b[0m                                  Traceback (most recent call last)",
      "\u001b[1;32m/home/rhtwe/python_projects/ghcnd_ml/data_exploration.ipynb Cell 4\u001b[0m in \u001b[0;36m<cell line: 1>\u001b[0;34m()\u001b[0m\n\u001b[0;32m----> <a href='vscode-notebook-cell:/home/rhtwe/python_projects/ghcnd_ml/data_exploration.ipynb#W5sZmlsZQ%3D%3D?line=0'>1</a>\u001b[0m var \u001b[39m=\u001b[39m Variable(ghn\u001b[39m.\u001b[39;49mgetVar(statDict, \u001b[39m'\u001b[39;49m\u001b[39mSNOW\u001b[39;49m\u001b[39m'\u001b[39;49m), \u001b[39m\"\u001b[39m\u001b[39msnowfall\u001b[39m\u001b[39m\"\u001b[39m)\n\u001b[1;32m      <a href='vscode-notebook-cell:/home/rhtwe/python_projects/ghcnd_ml/data_exploration.ipynb#W5sZmlsZQ%3D%3D?line=1'>2</a>\u001b[0m var\u001b[39m.\u001b[39mconvert_time()\n\u001b[1;32m      <a href='vscode-notebook-cell:/home/rhtwe/python_projects/ghcnd_ml/data_exploration.ipynb#W5sZmlsZQ%3D%3D?line=3'>4</a>\u001b[0m fig, ax \u001b[39m=\u001b[39m plt\u001b[39m.\u001b[39msubplots()\n",
      "File \u001b[0;32m~/python_projects/ghcnd_ml/GHCND.py:164\u001b[0m, in \u001b[0;36mGHNCD.getVar\u001b[0;34m(self, statDict, varName)\u001b[0m\n\u001b[1;32m    162\u001b[0m \u001b[39mif\u001b[39;00m varName \u001b[39m==\u001b[39m \u001b[39m'\u001b[39m\u001b[39mSNOW\u001b[39m\u001b[39m'\u001b[39m \u001b[39mor\u001b[39;00m varName \u001b[39m==\u001b[39m \u001b[39m'\u001b[39m\u001b[39mSNWD\u001b[39m\u001b[39m'\u001b[39m:\n\u001b[1;32m    163\u001b[0m     cal \u001b[39m=\u001b[39m \u001b[39m1.0\u001b[39m\n\u001b[0;32m--> 164\u001b[0m tempList \u001b[39m=\u001b[39m [(date(month[\u001b[39m'\u001b[39m\u001b[39myear\u001b[39m\u001b[39m'\u001b[39m], month[\u001b[39m'\u001b[39m\u001b[39mmonth\u001b[39m\u001b[39m'\u001b[39m], ind\u001b[39m+\u001b[39m\u001b[39m1\u001b[39m), cal\u001b[39m*\u001b[39mval) \u001b[39mfor\u001b[39;00m month \u001b[39min\u001b[39;00m statDict[varName]\n\u001b[1;32m    165\u001b[0m             [\u001b[39m'\u001b[39m\u001b[39mmonthList\u001b[39m\u001b[39m'\u001b[39m] \u001b[39mfor\u001b[39;00m ind, val \u001b[39min\u001b[39;00m \u001b[39menumerate\u001b[39m(month[\u001b[39m'\u001b[39m\u001b[39mvals\u001b[39m\u001b[39m'\u001b[39m]) \u001b[39mif\u001b[39;00m val \u001b[39m!=\u001b[39m \u001b[39m-\u001b[39m\u001b[39m9999\u001b[39m]\n\u001b[1;32m    166\u001b[0m \u001b[39mreturn\u001b[39;00m tempList\n",
      "\u001b[0;31mKeyError\u001b[0m: 'SNOW'"
     ]
    }
   ],
   "source": [
    "var = Variable(ghn.getVar(statDict, 'SNOW'), \"snowfall\")\n",
    "var.convert_time()\n",
    "\n",
    "fig, ax = plt.subplots()\n",
    "ax.plot(var.get_dates(), var.get_vals())\n",
    "ax.set_xlabel(\"Days since first recording\")\n",
    "ax.set_ylabel(f\"{var.get_type()}\")"
   ]
  }
 ],
 "metadata": {
  "kernelspec": {
   "display_name": "Python 3.9.2 64-bit",
   "language": "python",
   "name": "python3"
  },
  "language_info": {
   "codemirror_mode": {
    "name": "ipython",
    "version": 3
   },
   "file_extension": ".py",
   "mimetype": "text/x-python",
   "name": "python",
   "nbconvert_exporter": "python",
   "pygments_lexer": "ipython3",
   "version": "3.9.2"
  },
  "orig_nbformat": 4,
  "vscode": {
   "interpreter": {
    "hash": "e7370f93d1d0cde622a1f8e1c04877d8463912d04d973331ad4851f04de6915a"
   }
  }
 },
 "nbformat": 4,
 "nbformat_minor": 2
}
